{
 "cells": [
  {
   "cell_type": "code",
   "execution_count": 1,
   "id": "dbe5b6e3",
   "metadata": {
    "_cell_guid": "b1076dfc-b9ad-4769-8c92-a6c4dae69d19",
    "_uuid": "8f2839f25d086af736a60e9eeb907d3b93b6e0e5",
    "execution": {
     "iopub.execute_input": "2024-05-17T02:42:10.700924Z",
     "iopub.status.busy": "2024-05-17T02:42:10.700289Z",
     "iopub.status.idle": "2024-05-17T02:42:11.640060Z",
     "shell.execute_reply": "2024-05-17T02:42:11.638849Z"
    },
    "papermill": {
     "duration": 0.95787,
     "end_time": "2024-05-17T02:42:11.643804",
     "exception": false,
     "start_time": "2024-05-17T02:42:10.685934",
     "status": "completed"
    },
    "tags": []
   },
   "outputs": [
    {
     "name": "stdout",
     "output_type": "stream",
     "text": [
      "/kaggle/input/diamond-price-prediciton-2024/train.csv\n",
      "/kaggle/input/diamond-price-prediciton-2024/test.csv\n"
     ]
    }
   ],
   "source": [
    "# This Python 3 environment comes with many helpful analytics libraries installed\n",
    "# It is defined by the kaggle/python Docker image: https://github.com/kaggle/docker-python\n",
    "# For example, here's several helpful packages to load\n",
    "\n",
    "import numpy as np # linear algebra\n",
    "import pandas as pd # data processing, CSV file I/O (e.g. pd.read_csv)\n",
    "\n",
    "# Input data files are available in the read-only \"../input/\" directory\n",
    "# For example, running this (by clicking run or pressing Shift+Enter) will list all files under the input directory\n",
    "\n",
    "import os\n",
    "for dirname, _, filenames in os.walk('/kaggle/input'):\n",
    "    for filename in filenames:\n",
    "        print(os.path.join(dirname, filename))\n",
    "\n",
    "# You can write up to 20GB to the current directory (/kaggle/working/) that gets preserved as output when you create a version using \"Save & Run All\" \n",
    "# You can also write temporary files to /kaggle/temp/, but they won't be saved outside of the current session"
   ]
  },
  {
   "cell_type": "code",
   "execution_count": 2,
   "id": "ccf5c38a",
   "metadata": {
    "execution": {
     "iopub.execute_input": "2024-05-17T02:42:11.670770Z",
     "iopub.status.busy": "2024-05-17T02:42:11.669779Z",
     "iopub.status.idle": "2024-05-17T02:42:13.898576Z",
     "shell.execute_reply": "2024-05-17T02:42:13.897368Z"
    },
    "papermill": {
     "duration": 2.24487,
     "end_time": "2024-05-17T02:42:13.901343",
     "exception": false,
     "start_time": "2024-05-17T02:42:11.656473",
     "status": "completed"
    },
    "tags": []
   },
   "outputs": [],
   "source": [
    "import numpy as np \n",
    "import pandas as pd\n",
    "import seaborn as sns\n",
    "import matplotlib.pyplot as plt\n",
    "%matplotlib inline\n",
    "from pandas.plotting import scatter_matrix\n",
    "from sklearn.impute import SimpleImputer\n",
    "from sklearn.pipeline import Pipeline\n",
    "from sklearn.preprocessing import StandardScaler\n",
    "from sklearn.compose import ColumnTransformer\n",
    "from sklearn.preprocessing import StandardScaler, OneHotEncoder, LabelEncoder\n",
    "from sklearn.model_selection import train_test_split, GridSearchCV, cross_val_score\n",
    "from sklearn.metrics import mean_absolute_error, mean_squared_error, r2_score\n",
    "from sklearn.ensemble import RandomForestRegressor\n",
    "from sklearn.tree import DecisionTreeRegressor\n",
    "from xgboost import XGBRegressor"
   ]
  },
  {
   "cell_type": "code",
   "execution_count": 3,
   "id": "e6d2b3a3",
   "metadata": {
    "execution": {
     "iopub.execute_input": "2024-05-17T02:42:13.927714Z",
     "iopub.status.busy": "2024-05-17T02:42:13.926665Z",
     "iopub.status.idle": "2024-05-17T02:42:14.082949Z",
     "shell.execute_reply": "2024-05-17T02:42:14.081668Z"
    },
    "papermill": {
     "duration": 0.172602,
     "end_time": "2024-05-17T02:42:14.086232",
     "exception": false,
     "start_time": "2024-05-17T02:42:13.913630",
     "status": "completed"
    },
    "tags": []
   },
   "outputs": [
    {
     "data": {
      "text/html": [
       "<div>\n",
       "<style scoped>\n",
       "    .dataframe tbody tr th:only-of-type {\n",
       "        vertical-align: middle;\n",
       "    }\n",
       "\n",
       "    .dataframe tbody tr th {\n",
       "        vertical-align: top;\n",
       "    }\n",
       "\n",
       "    .dataframe thead th {\n",
       "        text-align: right;\n",
       "    }\n",
       "</style>\n",
       "<table border=\"1\" class=\"dataframe\">\n",
       "  <thead>\n",
       "    <tr style=\"text-align: right;\">\n",
       "      <th></th>\n",
       "      <th>Id</th>\n",
       "      <th>carat</th>\n",
       "      <th>cut</th>\n",
       "      <th>color</th>\n",
       "      <th>clarity</th>\n",
       "      <th>depth</th>\n",
       "      <th>table</th>\n",
       "      <th>price</th>\n",
       "      <th>x</th>\n",
       "      <th>y</th>\n",
       "      <th>z</th>\n",
       "    </tr>\n",
       "  </thead>\n",
       "  <tbody>\n",
       "    <tr>\n",
       "      <th>0</th>\n",
       "      <td>1</td>\n",
       "      <td>1.06</td>\n",
       "      <td>Ideal</td>\n",
       "      <td>I</td>\n",
       "      <td>SI2</td>\n",
       "      <td>61.8</td>\n",
       "      <td>57.0</td>\n",
       "      <td>4270</td>\n",
       "      <td>6.57</td>\n",
       "      <td>6.60</td>\n",
       "      <td>4.07</td>\n",
       "    </tr>\n",
       "    <tr>\n",
       "      <th>1</th>\n",
       "      <td>2</td>\n",
       "      <td>1.51</td>\n",
       "      <td>Premium</td>\n",
       "      <td>G</td>\n",
       "      <td>VVS2</td>\n",
       "      <td>60.9</td>\n",
       "      <td>58.0</td>\n",
       "      <td>15164</td>\n",
       "      <td>7.38</td>\n",
       "      <td>7.42</td>\n",
       "      <td>4.51</td>\n",
       "    </tr>\n",
       "    <tr>\n",
       "      <th>2</th>\n",
       "      <td>3</td>\n",
       "      <td>0.32</td>\n",
       "      <td>Ideal</td>\n",
       "      <td>F</td>\n",
       "      <td>VS2</td>\n",
       "      <td>61.3</td>\n",
       "      <td>56.0</td>\n",
       "      <td>828</td>\n",
       "      <td>4.43</td>\n",
       "      <td>4.41</td>\n",
       "      <td>2.71</td>\n",
       "    </tr>\n",
       "    <tr>\n",
       "      <th>3</th>\n",
       "      <td>4</td>\n",
       "      <td>0.53</td>\n",
       "      <td>Ideal</td>\n",
       "      <td>G</td>\n",
       "      <td>VS2</td>\n",
       "      <td>61.2</td>\n",
       "      <td>56.0</td>\n",
       "      <td>1577</td>\n",
       "      <td>5.19</td>\n",
       "      <td>5.22</td>\n",
       "      <td>3.19</td>\n",
       "    </tr>\n",
       "    <tr>\n",
       "      <th>4</th>\n",
       "      <td>5</td>\n",
       "      <td>0.70</td>\n",
       "      <td>Premium</td>\n",
       "      <td>H</td>\n",
       "      <td>VVS2</td>\n",
       "      <td>61.0</td>\n",
       "      <td>57.0</td>\n",
       "      <td>2596</td>\n",
       "      <td>5.76</td>\n",
       "      <td>5.72</td>\n",
       "      <td>3.50</td>\n",
       "    </tr>\n",
       "  </tbody>\n",
       "</table>\n",
       "</div>"
      ],
      "text/plain": [
       "   Id  carat      cut color clarity  depth  table  price     x     y     z\n",
       "0   1   1.06    Ideal     I     SI2   61.8   57.0   4270  6.57  6.60  4.07\n",
       "1   2   1.51  Premium     G    VVS2   60.9   58.0  15164  7.38  7.42  4.51\n",
       "2   3   0.32    Ideal     F     VS2   61.3   56.0    828  4.43  4.41  2.71\n",
       "3   4   0.53    Ideal     G     VS2   61.2   56.0   1577  5.19  5.22  3.19\n",
       "4   5   0.70  Premium     H    VVS2   61.0   57.0   2596  5.76  5.72  3.50"
      ]
     },
     "execution_count": 3,
     "metadata": {},
     "output_type": "execute_result"
    }
   ],
   "source": [
    "# reading data\n",
    "df=pd.read_csv(\"/kaggle/input/diamond-price-prediciton-2024/train.csv\")\n",
    "df.head()"
   ]
  },
  {
   "cell_type": "code",
   "execution_count": 4,
   "id": "6b1ba4c5",
   "metadata": {
    "execution": {
     "iopub.execute_input": "2024-05-17T02:42:14.113203Z",
     "iopub.status.busy": "2024-05-17T02:42:14.112345Z",
     "iopub.status.idle": "2024-05-17T02:42:14.153115Z",
     "shell.execute_reply": "2024-05-17T02:42:14.151903Z"
    },
    "papermill": {
     "duration": 0.057259,
     "end_time": "2024-05-17T02:42:14.155714",
     "exception": false,
     "start_time": "2024-05-17T02:42:14.098455",
     "status": "completed"
    },
    "tags": []
   },
   "outputs": [
    {
     "name": "stdout",
     "output_type": "stream",
     "text": [
      "<class 'pandas.core.frame.DataFrame'>\n",
      "RangeIndex: 43152 entries, 0 to 43151\n",
      "Data columns (total 11 columns):\n",
      " #   Column   Non-Null Count  Dtype  \n",
      "---  ------   --------------  -----  \n",
      " 0   Id       43152 non-null  int64  \n",
      " 1   carat    43152 non-null  float64\n",
      " 2   cut      43152 non-null  object \n",
      " 3   color    43152 non-null  object \n",
      " 4   clarity  43152 non-null  object \n",
      " 5   depth    43152 non-null  float64\n",
      " 6   table    43152 non-null  float64\n",
      " 7   price    43152 non-null  int64  \n",
      " 8   x        43152 non-null  float64\n",
      " 9   y        43152 non-null  float64\n",
      " 10  z        43152 non-null  float64\n",
      "dtypes: float64(6), int64(2), object(3)\n",
      "memory usage: 3.6+ MB\n"
     ]
    }
   ],
   "source": [
    "# checking the data content\n",
    "df.info()"
   ]
  },
  {
   "cell_type": "code",
   "execution_count": 5,
   "id": "59d8ce11",
   "metadata": {
    "execution": {
     "iopub.execute_input": "2024-05-17T02:42:14.181892Z",
     "iopub.status.busy": "2024-05-17T02:42:14.181458Z",
     "iopub.status.idle": "2024-05-17T02:42:14.233950Z",
     "shell.execute_reply": "2024-05-17T02:42:14.232761Z"
    },
    "papermill": {
     "duration": 0.068748,
     "end_time": "2024-05-17T02:42:14.236593",
     "exception": false,
     "start_time": "2024-05-17T02:42:14.167845",
     "status": "completed"
    },
    "tags": []
   },
   "outputs": [
    {
     "data": {
      "text/html": [
       "<div>\n",
       "<style scoped>\n",
       "    .dataframe tbody tr th:only-of-type {\n",
       "        vertical-align: middle;\n",
       "    }\n",
       "\n",
       "    .dataframe tbody tr th {\n",
       "        vertical-align: top;\n",
       "    }\n",
       "\n",
       "    .dataframe thead th {\n",
       "        text-align: right;\n",
       "    }\n",
       "</style>\n",
       "<table border=\"1\" class=\"dataframe\">\n",
       "  <thead>\n",
       "    <tr style=\"text-align: right;\">\n",
       "      <th></th>\n",
       "      <th>Id</th>\n",
       "      <th>carat</th>\n",
       "      <th>depth</th>\n",
       "      <th>table</th>\n",
       "      <th>price</th>\n",
       "      <th>x</th>\n",
       "      <th>y</th>\n",
       "      <th>z</th>\n",
       "    </tr>\n",
       "  </thead>\n",
       "  <tbody>\n",
       "    <tr>\n",
       "      <th>count</th>\n",
       "      <td>43152.000000</td>\n",
       "      <td>43152.000000</td>\n",
       "      <td>43152.000000</td>\n",
       "      <td>43152.000000</td>\n",
       "      <td>43152.000000</td>\n",
       "      <td>43152.000000</td>\n",
       "      <td>43152.000000</td>\n",
       "      <td>43152.000000</td>\n",
       "    </tr>\n",
       "    <tr>\n",
       "      <th>mean</th>\n",
       "      <td>21576.500000</td>\n",
       "      <td>0.797855</td>\n",
       "      <td>61.747177</td>\n",
       "      <td>57.458347</td>\n",
       "      <td>3929.491912</td>\n",
       "      <td>5.731568</td>\n",
       "      <td>5.735018</td>\n",
       "      <td>3.538568</td>\n",
       "    </tr>\n",
       "    <tr>\n",
       "      <th>std</th>\n",
       "      <td>12457.053745</td>\n",
       "      <td>0.473594</td>\n",
       "      <td>1.435454</td>\n",
       "      <td>2.233904</td>\n",
       "      <td>3985.527795</td>\n",
       "      <td>1.121279</td>\n",
       "      <td>1.148809</td>\n",
       "      <td>0.708238</td>\n",
       "    </tr>\n",
       "    <tr>\n",
       "      <th>min</th>\n",
       "      <td>1.000000</td>\n",
       "      <td>0.200000</td>\n",
       "      <td>43.000000</td>\n",
       "      <td>43.000000</td>\n",
       "      <td>326.000000</td>\n",
       "      <td>0.000000</td>\n",
       "      <td>0.000000</td>\n",
       "      <td>0.000000</td>\n",
       "    </tr>\n",
       "    <tr>\n",
       "      <th>25%</th>\n",
       "      <td>10788.750000</td>\n",
       "      <td>0.400000</td>\n",
       "      <td>61.000000</td>\n",
       "      <td>56.000000</td>\n",
       "      <td>947.750000</td>\n",
       "      <td>4.710000</td>\n",
       "      <td>4.720000</td>\n",
       "      <td>2.910000</td>\n",
       "    </tr>\n",
       "    <tr>\n",
       "      <th>50%</th>\n",
       "      <td>21576.500000</td>\n",
       "      <td>0.700000</td>\n",
       "      <td>61.800000</td>\n",
       "      <td>57.000000</td>\n",
       "      <td>2401.000000</td>\n",
       "      <td>5.700000</td>\n",
       "      <td>5.710000</td>\n",
       "      <td>3.530000</td>\n",
       "    </tr>\n",
       "    <tr>\n",
       "      <th>75%</th>\n",
       "      <td>32364.250000</td>\n",
       "      <td>1.040000</td>\n",
       "      <td>62.500000</td>\n",
       "      <td>59.000000</td>\n",
       "      <td>5312.000000</td>\n",
       "      <td>6.540000</td>\n",
       "      <td>6.540000</td>\n",
       "      <td>4.040000</td>\n",
       "    </tr>\n",
       "    <tr>\n",
       "      <th>max</th>\n",
       "      <td>43152.000000</td>\n",
       "      <td>5.010000</td>\n",
       "      <td>79.000000</td>\n",
       "      <td>95.000000</td>\n",
       "      <td>18823.000000</td>\n",
       "      <td>10.740000</td>\n",
       "      <td>58.900000</td>\n",
       "      <td>31.800000</td>\n",
       "    </tr>\n",
       "  </tbody>\n",
       "</table>\n",
       "</div>"
      ],
      "text/plain": [
       "                 Id         carat         depth         table         price  \\\n",
       "count  43152.000000  43152.000000  43152.000000  43152.000000  43152.000000   \n",
       "mean   21576.500000      0.797855     61.747177     57.458347   3929.491912   \n",
       "std    12457.053745      0.473594      1.435454      2.233904   3985.527795   \n",
       "min        1.000000      0.200000     43.000000     43.000000    326.000000   \n",
       "25%    10788.750000      0.400000     61.000000     56.000000    947.750000   \n",
       "50%    21576.500000      0.700000     61.800000     57.000000   2401.000000   \n",
       "75%    32364.250000      1.040000     62.500000     59.000000   5312.000000   \n",
       "max    43152.000000      5.010000     79.000000     95.000000  18823.000000   \n",
       "\n",
       "                  x             y             z  \n",
       "count  43152.000000  43152.000000  43152.000000  \n",
       "mean       5.731568      5.735018      3.538568  \n",
       "std        1.121279      1.148809      0.708238  \n",
       "min        0.000000      0.000000      0.000000  \n",
       "25%        4.710000      4.720000      2.910000  \n",
       "50%        5.700000      5.710000      3.530000  \n",
       "75%        6.540000      6.540000      4.040000  \n",
       "max       10.740000     58.900000     31.800000  "
      ]
     },
     "execution_count": 5,
     "metadata": {},
     "output_type": "execute_result"
    }
   ],
   "source": [
    "# checking the description of the data\n",
    "df.describe()"
   ]
  },
  {
   "cell_type": "code",
   "execution_count": 6,
   "id": "9ee680f5",
   "metadata": {
    "execution": {
     "iopub.execute_input": "2024-05-17T02:42:14.264784Z",
     "iopub.status.busy": "2024-05-17T02:42:14.264364Z",
     "iopub.status.idle": "2024-05-17T02:42:14.289019Z",
     "shell.execute_reply": "2024-05-17T02:42:14.287713Z"
    },
    "papermill": {
     "duration": 0.042237,
     "end_time": "2024-05-17T02:42:14.291824",
     "exception": false,
     "start_time": "2024-05-17T02:42:14.249587",
     "status": "completed"
    },
    "tags": []
   },
   "outputs": [
    {
     "data": {
      "text/plain": [
       "Id         0\n",
       "carat      0\n",
       "cut        0\n",
       "color      0\n",
       "clarity    0\n",
       "depth      0\n",
       "table      0\n",
       "price      0\n",
       "x          0\n",
       "y          0\n",
       "z          0\n",
       "dtype: int64"
      ]
     },
     "execution_count": 6,
     "metadata": {},
     "output_type": "execute_result"
    }
   ],
   "source": [
    "df.isna().sum()"
   ]
  },
  {
   "cell_type": "code",
   "execution_count": 7,
   "id": "9ded6430",
   "metadata": {
    "execution": {
     "iopub.execute_input": "2024-05-17T02:42:14.320707Z",
     "iopub.status.busy": "2024-05-17T02:42:14.319772Z",
     "iopub.status.idle": "2024-05-17T02:42:14.343744Z",
     "shell.execute_reply": "2024-05-17T02:42:14.342732Z"
    },
    "papermill": {
     "duration": 0.040756,
     "end_time": "2024-05-17T02:42:14.346556",
     "exception": false,
     "start_time": "2024-05-17T02:42:14.305800",
     "status": "completed"
    },
    "tags": []
   },
   "outputs": [],
   "source": [
    "# time to see the categorical cols (cut,clarity,color) and based on \n",
    "# the description of the data it seems that they are all ordinal \n",
    "# so we gotta order them\n",
    "cut_categories = ['Fair', 'Good', 'Very Good', 'Premium', 'Ideal']\n",
    "color_categories = ['J', 'I', 'H', 'G', 'F', 'E', 'D'] \n",
    "clarity_categories = ['I1', 'SI2', 'SI1', 'VS2', 'VS1', 'VVS2', 'VVS1', 'IF'] \n",
    "\n",
    "# will also change the type from obj to categories to take less space and enhance readability\n",
    "df['cut'] = df['cut'].astype(pd.CategoricalDtype(categories=cut_categories, ordered=True))\n",
    "df['color'] = df['color'].astype(pd.CategoricalDtype(categories=color_categories, ordered=True))\n",
    "df['clarity'] = df['clarity'].astype(pd.CategoricalDtype(categories=clarity_categories, ordered=True))"
   ]
  },
  {
   "cell_type": "code",
   "execution_count": 8,
   "id": "c3f99ed1",
   "metadata": {
    "execution": {
     "iopub.execute_input": "2024-05-17T02:42:14.374446Z",
     "iopub.status.busy": "2024-05-17T02:42:14.373422Z",
     "iopub.status.idle": "2024-05-17T02:42:14.389925Z",
     "shell.execute_reply": "2024-05-17T02:42:14.388437Z"
    },
    "papermill": {
     "duration": 0.033255,
     "end_time": "2024-05-17T02:42:14.392693",
     "exception": false,
     "start_time": "2024-05-17T02:42:14.359438",
     "status": "completed"
    },
    "tags": []
   },
   "outputs": [
    {
     "name": "stdout",
     "output_type": "stream",
     "text": [
      "<class 'pandas.core.frame.DataFrame'>\n",
      "RangeIndex: 43152 entries, 0 to 43151\n",
      "Data columns (total 11 columns):\n",
      " #   Column   Non-Null Count  Dtype   \n",
      "---  ------   --------------  -----   \n",
      " 0   Id       43152 non-null  int64   \n",
      " 1   carat    43152 non-null  float64 \n",
      " 2   cut      43152 non-null  category\n",
      " 3   color    43152 non-null  category\n",
      " 4   clarity  43152 non-null  category\n",
      " 5   depth    43152 non-null  float64 \n",
      " 6   table    43152 non-null  float64 \n",
      " 7   price    43152 non-null  int64   \n",
      " 8   x        43152 non-null  float64 \n",
      " 9   y        43152 non-null  float64 \n",
      " 10  z        43152 non-null  float64 \n",
      "dtypes: category(3), float64(6), int64(2)\n",
      "memory usage: 2.8 MB\n"
     ]
    }
   ],
   "source": [
    "df.info()"
   ]
  },
  {
   "cell_type": "code",
   "execution_count": 9,
   "id": "d4f92340",
   "metadata": {
    "execution": {
     "iopub.execute_input": "2024-05-17T02:42:14.420419Z",
     "iopub.status.busy": "2024-05-17T02:42:14.420029Z",
     "iopub.status.idle": "2024-05-17T02:42:14.442753Z",
     "shell.execute_reply": "2024-05-17T02:42:14.441558Z"
    },
    "papermill": {
     "duration": 0.03967,
     "end_time": "2024-05-17T02:42:14.445218",
     "exception": false,
     "start_time": "2024-05-17T02:42:14.405548",
     "status": "completed"
    },
    "tags": []
   },
   "outputs": [
    {
     "name": "stdout",
     "output_type": "stream",
     "text": [
      "5\n",
      "4\n",
      "17\n"
     ]
    }
   ],
   "source": [
    "# we need to handle x,y,z 0 values \n",
    "print(df[df['x']==0].value_counts().sum())\n",
    "print(df[df['y']==0].value_counts().sum())\n",
    "print(df[df['z']==0].value_counts().sum())"
   ]
  },
  {
   "cell_type": "code",
   "execution_count": 10,
   "id": "ba784265",
   "metadata": {
    "execution": {
     "iopub.execute_input": "2024-05-17T02:42:14.473051Z",
     "iopub.status.busy": "2024-05-17T02:42:14.472249Z",
     "iopub.status.idle": "2024-05-17T02:42:14.490178Z",
     "shell.execute_reply": "2024-05-17T02:42:14.489260Z"
    },
    "papermill": {
     "duration": 0.034814,
     "end_time": "2024-05-17T02:42:14.492797",
     "exception": false,
     "start_time": "2024-05-17T02:42:14.457983",
     "status": "completed"
    },
    "tags": []
   },
   "outputs": [],
   "source": [
    "df.drop(df[df['x']==0].index, inplace =True)\n",
    "df.drop(df[df['y']==0].index, inplace =True)\n",
    "df.drop(df[df['z']==0].index, inplace =True)"
   ]
  },
  {
   "cell_type": "code",
   "execution_count": 11,
   "id": "0d1ffaad",
   "metadata": {
    "execution": {
     "iopub.execute_input": "2024-05-17T02:42:14.520731Z",
     "iopub.status.busy": "2024-05-17T02:42:14.519934Z",
     "iopub.status.idle": "2024-05-17T02:42:14.539468Z",
     "shell.execute_reply": "2024-05-17T02:42:14.538022Z"
    },
    "papermill": {
     "duration": 0.03667,
     "end_time": "2024-05-17T02:42:14.542309",
     "exception": false,
     "start_time": "2024-05-17T02:42:14.505639",
     "status": "completed"
    },
    "tags": []
   },
   "outputs": [],
   "source": [
    "columns_of_interest = ['depth', 'table','x','y','z']\n",
    "Q1 = df[columns_of_interest].quantile(0.25)\n",
    "Q3 = df[columns_of_interest].quantile(0.75)\n",
    "IQR = Q3 - Q1"
   ]
  },
  {
   "cell_type": "code",
   "execution_count": 12,
   "id": "5d12dd90",
   "metadata": {
    "execution": {
     "iopub.execute_input": "2024-05-17T02:42:14.570974Z",
     "iopub.status.busy": "2024-05-17T02:42:14.570541Z",
     "iopub.status.idle": "2024-05-17T02:42:14.585215Z",
     "shell.execute_reply": "2024-05-17T02:42:14.584051Z"
    },
    "papermill": {
     "duration": 0.031919,
     "end_time": "2024-05-17T02:42:14.587582",
     "exception": false,
     "start_time": "2024-05-17T02:42:14.555663",
     "status": "completed"
    },
    "tags": []
   },
   "outputs": [
    {
     "name": "stdout",
     "output_type": "stream",
     "text": [
      "Number of outliers removed: 2373\n"
     ]
    }
   ],
   "source": [
    "lower_bound = Q1 - 1.5 * IQR\n",
    "upper_bound = Q3 + 1.5 * IQR\n",
    "\n",
    "# Find outliers using boolean indexing\n",
    "outliers_mask = ((df[columns_of_interest] < lower_bound) | (df[columns_of_interest] > upper_bound)).any(axis=1)\n",
    "\n",
    "# Remove outliers from the dataframe\n",
    "df_final = df[~outliers_mask]\n",
    "print(\"Number of outliers removed:\", outliers_mask.sum())"
   ]
  },
  {
   "cell_type": "code",
   "execution_count": 13,
   "id": "9c769eef",
   "metadata": {
    "execution": {
     "iopub.execute_input": "2024-05-17T02:42:14.615864Z",
     "iopub.status.busy": "2024-05-17T02:42:14.614735Z",
     "iopub.status.idle": "2024-05-17T02:42:14.628540Z",
     "shell.execute_reply": "2024-05-17T02:42:14.627404Z"
    },
    "papermill": {
     "duration": 0.030978,
     "end_time": "2024-05-17T02:42:14.631571",
     "exception": false,
     "start_time": "2024-05-17T02:42:14.600593",
     "status": "completed"
    },
    "tags": []
   },
   "outputs": [
    {
     "name": "stdout",
     "output_type": "stream",
     "text": [
      "<class 'pandas.core.frame.DataFrame'>\n",
      "Index: 40762 entries, 0 to 43151\n",
      "Data columns (total 11 columns):\n",
      " #   Column   Non-Null Count  Dtype   \n",
      "---  ------   --------------  -----   \n",
      " 0   Id       40762 non-null  int64   \n",
      " 1   carat    40762 non-null  float64 \n",
      " 2   cut      40762 non-null  category\n",
      " 3   color    40762 non-null  category\n",
      " 4   clarity  40762 non-null  category\n",
      " 5   depth    40762 non-null  float64 \n",
      " 6   table    40762 non-null  float64 \n",
      " 7   price    40762 non-null  int64   \n",
      " 8   x        40762 non-null  float64 \n",
      " 9   y        40762 non-null  float64 \n",
      " 10  z        40762 non-null  float64 \n",
      "dtypes: category(3), float64(6), int64(2)\n",
      "memory usage: 2.9 MB\n"
     ]
    }
   ],
   "source": [
    "df_final.info()"
   ]
  },
  {
   "cell_type": "code",
   "execution_count": 14,
   "id": "e3b6929c",
   "metadata": {
    "execution": {
     "iopub.execute_input": "2024-05-17T02:42:14.659849Z",
     "iopub.status.busy": "2024-05-17T02:42:14.659435Z",
     "iopub.status.idle": "2024-05-17T02:42:14.678825Z",
     "shell.execute_reply": "2024-05-17T02:42:14.677749Z"
    },
    "papermill": {
     "duration": 0.036489,
     "end_time": "2024-05-17T02:42:14.681491",
     "exception": false,
     "start_time": "2024-05-17T02:42:14.645002",
     "status": "completed"
    },
    "tags": []
   },
   "outputs": [
    {
     "data": {
      "text/html": [
       "<div>\n",
       "<style scoped>\n",
       "    .dataframe tbody tr th:only-of-type {\n",
       "        vertical-align: middle;\n",
       "    }\n",
       "\n",
       "    .dataframe tbody tr th {\n",
       "        vertical-align: top;\n",
       "    }\n",
       "\n",
       "    .dataframe thead th {\n",
       "        text-align: right;\n",
       "    }\n",
       "</style>\n",
       "<table border=\"1\" class=\"dataframe\">\n",
       "  <thead>\n",
       "    <tr style=\"text-align: right;\">\n",
       "      <th></th>\n",
       "      <th>carat</th>\n",
       "      <th>cut</th>\n",
       "      <th>color</th>\n",
       "      <th>clarity</th>\n",
       "      <th>depth</th>\n",
       "      <th>table</th>\n",
       "      <th>price</th>\n",
       "    </tr>\n",
       "  </thead>\n",
       "  <tbody>\n",
       "    <tr>\n",
       "      <th>0</th>\n",
       "      <td>1.06</td>\n",
       "      <td>Ideal</td>\n",
       "      <td>I</td>\n",
       "      <td>SI2</td>\n",
       "      <td>61.8</td>\n",
       "      <td>57.0</td>\n",
       "      <td>4270</td>\n",
       "    </tr>\n",
       "    <tr>\n",
       "      <th>1</th>\n",
       "      <td>1.51</td>\n",
       "      <td>Premium</td>\n",
       "      <td>G</td>\n",
       "      <td>VVS2</td>\n",
       "      <td>60.9</td>\n",
       "      <td>58.0</td>\n",
       "      <td>15164</td>\n",
       "    </tr>\n",
       "    <tr>\n",
       "      <th>2</th>\n",
       "      <td>0.32</td>\n",
       "      <td>Ideal</td>\n",
       "      <td>F</td>\n",
       "      <td>VS2</td>\n",
       "      <td>61.3</td>\n",
       "      <td>56.0</td>\n",
       "      <td>828</td>\n",
       "    </tr>\n",
       "    <tr>\n",
       "      <th>3</th>\n",
       "      <td>0.53</td>\n",
       "      <td>Ideal</td>\n",
       "      <td>G</td>\n",
       "      <td>VS2</td>\n",
       "      <td>61.2</td>\n",
       "      <td>56.0</td>\n",
       "      <td>1577</td>\n",
       "    </tr>\n",
       "    <tr>\n",
       "      <th>4</th>\n",
       "      <td>0.70</td>\n",
       "      <td>Premium</td>\n",
       "      <td>H</td>\n",
       "      <td>VVS2</td>\n",
       "      <td>61.0</td>\n",
       "      <td>57.0</td>\n",
       "      <td>2596</td>\n",
       "    </tr>\n",
       "  </tbody>\n",
       "</table>\n",
       "</div>"
      ],
      "text/plain": [
       "   carat      cut color clarity  depth  table  price\n",
       "0   1.06    Ideal     I     SI2   61.8   57.0   4270\n",
       "1   1.51  Premium     G    VVS2   60.9   58.0  15164\n",
       "2   0.32    Ideal     F     VS2   61.3   56.0    828\n",
       "3   0.53    Ideal     G     VS2   61.2   56.0   1577\n",
       "4   0.70  Premium     H    VVS2   61.0   57.0   2596"
      ]
     },
     "execution_count": 14,
     "metadata": {},
     "output_type": "execute_result"
    }
   ],
   "source": [
    "df_modified = df_final.drop(['x','y','z','Id'],axis=1)\n",
    "df_modified.head()"
   ]
  },
  {
   "cell_type": "code",
   "execution_count": 15,
   "id": "ab5ebbfd",
   "metadata": {
    "execution": {
     "iopub.execute_input": "2024-05-17T02:42:14.710323Z",
     "iopub.status.busy": "2024-05-17T02:42:14.709887Z",
     "iopub.status.idle": "2024-05-17T02:42:14.715897Z",
     "shell.execute_reply": "2024-05-17T02:42:14.715082Z"
    },
    "papermill": {
     "duration": 0.023426,
     "end_time": "2024-05-17T02:42:14.718495",
     "exception": false,
     "start_time": "2024-05-17T02:42:14.695069",
     "status": "completed"
    },
    "tags": []
   },
   "outputs": [],
   "source": [
    "X = df_modified.drop('price', axis=1)\n",
    "y = df_modified['price']"
   ]
  },
  {
   "cell_type": "code",
   "execution_count": 16,
   "id": "0bab5dc9",
   "metadata": {
    "execution": {
     "iopub.execute_input": "2024-05-17T02:42:14.747519Z",
     "iopub.status.busy": "2024-05-17T02:42:14.746634Z",
     "iopub.status.idle": "2024-05-17T02:42:14.753245Z",
     "shell.execute_reply": "2024-05-17T02:42:14.752480Z"
    },
    "papermill": {
     "duration": 0.023564,
     "end_time": "2024-05-17T02:42:14.755543",
     "exception": false,
     "start_time": "2024-05-17T02:42:14.731979",
     "status": "completed"
    },
    "tags": []
   },
   "outputs": [],
   "source": [
    "numeric_features = ['carat', 'depth', 'table']\n",
    "categorical_features = ['cut', 'color', 'clarity']\n",
    "\n",
    "numeric_transformer = Pipeline(steps=[\n",
    "    ('scaler', StandardScaler())\n",
    "])\n",
    "\n",
    "categorical_transformer = Pipeline(steps=[\n",
    "    ('onehot', OneHotEncoder(handle_unknown='ignore'))\n",
    "])"
   ]
  },
  {
   "cell_type": "code",
   "execution_count": 17,
   "id": "8e5aae9a",
   "metadata": {
    "execution": {
     "iopub.execute_input": "2024-05-17T02:42:14.784285Z",
     "iopub.status.busy": "2024-05-17T02:42:14.783654Z",
     "iopub.status.idle": "2024-05-17T02:42:14.791089Z",
     "shell.execute_reply": "2024-05-17T02:42:14.789940Z"
    },
    "papermill": {
     "duration": 0.024736,
     "end_time": "2024-05-17T02:42:14.793649",
     "exception": false,
     "start_time": "2024-05-17T02:42:14.768913",
     "status": "completed"
    },
    "tags": []
   },
   "outputs": [],
   "source": [
    "preprocessor = ColumnTransformer(\n",
    "    transformers=[\n",
    "        ('num', numeric_transformer, numeric_features),\n",
    "        ('cat', categorical_transformer, categorical_features)\n",
    "    ])\n",
    "\n",
    "xgb_pipeline = Pipeline(steps=[\n",
    "    ('preprocessor', preprocessor),\n",
    "    ('regressor', XGBRegressor())\n",
    "])\n",
    "\n",
    "rf_pipeline = Pipeline(steps=[\n",
    "    ('preprocessor', preprocessor),\n",
    "    ('regressor', RandomForestRegressor())\n",
    "])\n",
    "\n",
    "dt_pipeline = Pipeline(steps=[\n",
    "    ('preprocessor', preprocessor),\n",
    "    ('regressor', DecisionTreeRegressor())\n",
    "])"
   ]
  },
  {
   "cell_type": "code",
   "execution_count": 18,
   "id": "0888f331",
   "metadata": {
    "execution": {
     "iopub.execute_input": "2024-05-17T02:42:14.822034Z",
     "iopub.status.busy": "2024-05-17T02:42:14.821645Z",
     "iopub.status.idle": "2024-05-17T02:42:16.742584Z",
     "shell.execute_reply": "2024-05-17T02:42:16.741208Z"
    },
    "papermill": {
     "duration": 1.938749,
     "end_time": "2024-05-17T02:42:16.745727",
     "exception": false,
     "start_time": "2024-05-17T02:42:14.806978",
     "status": "completed"
    },
    "tags": []
   },
   "outputs": [
    {
     "name": "stdout",
     "output_type": "stream",
     "text": [
      "XGBoost CV RMSE: 537.9639897555738, Std: 12237.659746621066\n"
     ]
    }
   ],
   "source": [
    "xgb_cv_scores = cross_val_score(xgb_pipeline, X, y, cv=5, scoring='neg_mean_squared_error')\n",
    "print(f\"XGBoost CV RMSE: {np.mean(np.sqrt(-xgb_cv_scores))}, Std: {np.std(xgb_cv_scores)}\")"
   ]
  },
  {
   "cell_type": "code",
   "execution_count": 19,
   "id": "e840a547",
   "metadata": {
    "execution": {
     "iopub.execute_input": "2024-05-17T02:42:16.776758Z",
     "iopub.status.busy": "2024-05-17T02:42:16.776349Z",
     "iopub.status.idle": "2024-05-17T02:42:28.645270Z",
     "shell.execute_reply": "2024-05-17T02:42:28.643980Z"
    },
    "papermill": {
     "duration": 11.886953,
     "end_time": "2024-05-17T02:42:28.647830",
     "exception": false,
     "start_time": "2024-05-17T02:42:16.760877",
     "status": "completed"
    },
    "tags": []
   },
   "outputs": [
    {
     "name": "stdout",
     "output_type": "stream",
     "text": [
      "Decision Tree CV RMSE: 712.3957610738782, Std: 13303.139536095103\n"
     ]
    }
   ],
   "source": [
    "dt_cv_scores = cross_val_score(dt_pipeline, X, y, cv=5, scoring='neg_mean_squared_error')\n",
    "print(f\"Decision Tree CV RMSE: {np.mean(np.sqrt(-dt_cv_scores))}, Std: {np.std(dt_cv_scores)}\")"
   ]
  },
  {
   "cell_type": "code",
   "execution_count": 20,
   "id": "f7eb03d1",
   "metadata": {
    "execution": {
     "iopub.execute_input": "2024-05-17T02:42:28.677177Z",
     "iopub.status.busy": "2024-05-17T02:42:28.676772Z",
     "iopub.status.idle": "2024-05-17T02:55:46.663760Z",
     "shell.execute_reply": "2024-05-17T02:55:46.662417Z"
    },
    "papermill": {
     "duration": 798.017847,
     "end_time": "2024-05-17T02:55:46.679737",
     "exception": false,
     "start_time": "2024-05-17T02:42:28.661890",
     "status": "completed"
    },
    "tags": []
   },
   "outputs": [
    {
     "name": "stdout",
     "output_type": "stream",
     "text": [
      "Random Forest CV RMSE: 544.1209318622035, Std: 10288.509584624315\n"
     ]
    }
   ],
   "source": [
    "rf_cv_scores = cross_val_score(rf_pipeline, X, y, cv=5, scoring='neg_mean_squared_error')\n",
    "print(f\"Random Forest CV RMSE: {np.mean(np.sqrt(-rf_cv_scores))}, Std: {np.std(rf_cv_scores)}\")"
   ]
  },
  {
   "cell_type": "code",
   "execution_count": 21,
   "id": "c3a52ebf",
   "metadata": {
    "execution": {
     "iopub.execute_input": "2024-05-17T02:55:46.709240Z",
     "iopub.status.busy": "2024-05-17T02:55:46.708854Z",
     "iopub.status.idle": "2024-05-17T02:55:46.721152Z",
     "shell.execute_reply": "2024-05-17T02:55:46.720011Z"
    },
    "papermill": {
     "duration": 0.030343,
     "end_time": "2024-05-17T02:55:46.723732",
     "exception": false,
     "start_time": "2024-05-17T02:55:46.693389",
     "status": "completed"
    },
    "tags": []
   },
   "outputs": [],
   "source": [
    "X_train, X_test, y_train, y_test = train_test_split(X, y, test_size=0.2, random_state=42)"
   ]
  },
  {
   "cell_type": "code",
   "execution_count": 22,
   "id": "fc0bb918",
   "metadata": {
    "execution": {
     "iopub.execute_input": "2024-05-17T02:55:46.754662Z",
     "iopub.status.busy": "2024-05-17T02:55:46.753976Z",
     "iopub.status.idle": "2024-05-17T02:55:46.760168Z",
     "shell.execute_reply": "2024-05-17T02:55:46.759327Z"
    },
    "papermill": {
     "duration": 0.024549,
     "end_time": "2024-05-17T02:55:46.762585",
     "exception": false,
     "start_time": "2024-05-17T02:55:46.738036",
     "status": "completed"
    },
    "tags": []
   },
   "outputs": [],
   "source": [
    "param_grid_xgb = {\n",
    "    'regressor__n_estimators': [100, 200],\n",
    "    'regressor__max_depth': [3, 5, 7],\n",
    "    'regressor__learning_rate': [0.01, 0.1, 0.2]\n",
    "}\n",
    "\n",
    "param_grid_rf = {\n",
    "    'regressor__n_estimators': [100, 200],\n",
    "    'regressor__max_depth': [None, 10, 20],\n",
    "    'regressor__min_samples_split': [2, 5, 10]\n",
    "}\n",
    "\n",
    "param_grid_dt = {\n",
    "    'regressor__max_depth': [None, 10, 20],\n",
    "    'regressor__min_samples_split': [2, 5, 10]\n",
    "}"
   ]
  },
  {
   "cell_type": "code",
   "execution_count": 23,
   "id": "ad569fc2",
   "metadata": {
    "execution": {
     "iopub.execute_input": "2024-05-17T02:55:46.792747Z",
     "iopub.status.busy": "2024-05-17T02:55:46.792080Z",
     "iopub.status.idle": "2024-05-17T02:56:21.749481Z",
     "shell.execute_reply": "2024-05-17T02:56:21.748507Z"
    },
    "papermill": {
     "duration": 34.97568,
     "end_time": "2024-05-17T02:56:21.752166",
     "exception": false,
     "start_time": "2024-05-17T02:55:46.776486",
     "status": "completed"
    },
    "tags": []
   },
   "outputs": [],
   "source": [
    "grid_search_xgb = GridSearchCV(xgb_pipeline, param_grid_xgb, cv=5, scoring='neg_mean_squared_error')\n",
    "grid_search_xgb.fit(X_train, y_train)\n",
    "best_xgb_model = grid_search_xgb.best_estimator_"
   ]
  },
  {
   "cell_type": "code",
   "execution_count": 24,
   "id": "3af46dee",
   "metadata": {
    "execution": {
     "iopub.execute_input": "2024-05-17T02:56:21.782373Z",
     "iopub.status.busy": "2024-05-17T02:56:21.781957Z",
     "iopub.status.idle": "2024-05-17T04:53:25.766472Z",
     "shell.execute_reply": "2024-05-17T04:53:25.765240Z"
    },
    "papermill": {
     "duration": 7024.002588,
     "end_time": "2024-05-17T04:53:25.769755",
     "exception": false,
     "start_time": "2024-05-17T02:56:21.767167",
     "status": "completed"
    },
    "tags": []
   },
   "outputs": [],
   "source": [
    "grid_search_rf = GridSearchCV(rf_pipeline, param_grid_rf, cv=5, scoring='neg_mean_squared_error')\n",
    "grid_search_rf.fit(X_train, y_train)\n",
    "best_rf_model = grid_search_rf.best_estimator_"
   ]
  },
  {
   "cell_type": "code",
   "execution_count": 25,
   "id": "b50e69e6",
   "metadata": {
    "execution": {
     "iopub.execute_input": "2024-05-17T04:53:25.800856Z",
     "iopub.status.busy": "2024-05-17T04:53:25.800405Z",
     "iopub.status.idle": "2024-05-17T04:54:00.754510Z",
     "shell.execute_reply": "2024-05-17T04:54:00.753429Z"
    },
    "papermill": {
     "duration": 34.972329,
     "end_time": "2024-05-17T04:54:00.757290",
     "exception": false,
     "start_time": "2024-05-17T04:53:25.784961",
     "status": "completed"
    },
    "tags": []
   },
   "outputs": [],
   "source": [
    "grid_search_dt = GridSearchCV(dt_pipeline, param_grid_dt, cv=5, scoring='neg_mean_squared_error')\n",
    "grid_search_dt.fit(X_train, y_train)\n",
    "best_dt_model = grid_search_dt.best_estimator_"
   ]
  },
  {
   "cell_type": "code",
   "execution_count": 26,
   "id": "877203bf",
   "metadata": {
    "execution": {
     "iopub.execute_input": "2024-05-17T04:54:00.786766Z",
     "iopub.status.busy": "2024-05-17T04:54:00.786368Z",
     "iopub.status.idle": "2024-05-17T04:54:01.303372Z",
     "shell.execute_reply": "2024-05-17T04:54:01.302209Z"
    },
    "papermill": {
     "duration": 0.534962,
     "end_time": "2024-05-17T04:54:01.306153",
     "exception": false,
     "start_time": "2024-05-17T04:54:00.771191",
     "status": "completed"
    },
    "tags": []
   },
   "outputs": [],
   "source": [
    "def evaluate_model(model, X_test, y_test):\n",
    "    y_pred = model.predict(X_test)\n",
    "    mae = mean_absolute_error(y_test, y_pred)\n",
    "    mse = mean_squared_error(y_test, y_pred)\n",
    "    rmse = np.sqrt(mse)\n",
    "    r2 = r2_score(y_test, y_pred)\n",
    "    return mae, mse, rmse, r2\n",
    "\n",
    "xgb_metrics = evaluate_model(best_xgb_model, X_test, y_test)\n",
    "rf_metrics = evaluate_model(best_rf_model, X_test, y_test)\n",
    "dt_metrics = evaluate_model(best_dt_model, X_test, y_test)"
   ]
  },
  {
   "cell_type": "code",
   "execution_count": 27,
   "id": "a09be3d6",
   "metadata": {
    "execution": {
     "iopub.execute_input": "2024-05-17T04:54:01.335288Z",
     "iopub.status.busy": "2024-05-17T04:54:01.334910Z",
     "iopub.status.idle": "2024-05-17T04:54:01.341987Z",
     "shell.execute_reply": "2024-05-17T04:54:01.340790Z"
    },
    "papermill": {
     "duration": 0.024977,
     "end_time": "2024-05-17T04:54:01.344757",
     "exception": false,
     "start_time": "2024-05-17T04:54:01.319780",
     "status": "completed"
    },
    "tags": []
   },
   "outputs": [
    {
     "name": "stdout",
     "output_type": "stream",
     "text": [
      "XGBoost - MAE: 276.56378499478717, MSE: 288324.53453261283, RMSE: 536.9585966651553, R2: 0.9824124379813156\n",
      "Random Forest - MAE: 283.4763775244536, MSE: 304248.07649347506, RMSE: 551.5868712120287, R2: 0.9814411148774813\n",
      "Decision Tree - MAE: 329.5922013745143, MSE: 420033.9791566908, RMSE: 648.1002847991126, R2: 0.974378269021232\n"
     ]
    }
   ],
   "source": [
    "print(f\"XGBoost - MAE: {xgb_metrics[0]}, MSE: {xgb_metrics[1]}, RMSE: {xgb_metrics[2]}, R2: {xgb_metrics[3]}\")\n",
    "print(f\"Random Forest - MAE: {rf_metrics[0]}, MSE: {rf_metrics[1]}, RMSE: {rf_metrics[2]}, R2: {rf_metrics[3]}\")\n",
    "print(f\"Decision Tree - MAE: {dt_metrics[0]}, MSE: {dt_metrics[1]}, RMSE: {dt_metrics[2]}, R2: {dt_metrics[3]}\")"
   ]
  },
  {
   "cell_type": "code",
   "execution_count": 28,
   "id": "8d6670bf",
   "metadata": {
    "execution": {
     "iopub.execute_input": "2024-05-17T04:54:01.374463Z",
     "iopub.status.busy": "2024-05-17T04:54:01.374082Z",
     "iopub.status.idle": "2024-05-17T04:54:01.435067Z",
     "shell.execute_reply": "2024-05-17T04:54:01.433920Z"
    },
    "papermill": {
     "duration": 0.079214,
     "end_time": "2024-05-17T04:54:01.437682",
     "exception": false,
     "start_time": "2024-05-17T04:54:01.358468",
     "status": "completed"
    },
    "tags": []
   },
   "outputs": [
    {
     "data": {
      "text/html": [
       "<div>\n",
       "<style scoped>\n",
       "    .dataframe tbody tr th:only-of-type {\n",
       "        vertical-align: middle;\n",
       "    }\n",
       "\n",
       "    .dataframe tbody tr th {\n",
       "        vertical-align: top;\n",
       "    }\n",
       "\n",
       "    .dataframe thead th {\n",
       "        text-align: right;\n",
       "    }\n",
       "</style>\n",
       "<table border=\"1\" class=\"dataframe\">\n",
       "  <thead>\n",
       "    <tr style=\"text-align: right;\">\n",
       "      <th></th>\n",
       "      <th>Id</th>\n",
       "      <th>carat</th>\n",
       "      <th>cut</th>\n",
       "      <th>color</th>\n",
       "      <th>clarity</th>\n",
       "      <th>depth</th>\n",
       "      <th>table</th>\n",
       "      <th>x</th>\n",
       "      <th>y</th>\n",
       "      <th>z</th>\n",
       "    </tr>\n",
       "  </thead>\n",
       "  <tbody>\n",
       "    <tr>\n",
       "      <th>0</th>\n",
       "      <td>1</td>\n",
       "      <td>0.34</td>\n",
       "      <td>Ideal</td>\n",
       "      <td>G</td>\n",
       "      <td>VVS2</td>\n",
       "      <td>61.1</td>\n",
       "      <td>57.0</td>\n",
       "      <td>4.52</td>\n",
       "      <td>4.48</td>\n",
       "      <td>2.75</td>\n",
       "    </tr>\n",
       "    <tr>\n",
       "      <th>1</th>\n",
       "      <td>2</td>\n",
       "      <td>0.71</td>\n",
       "      <td>Premium</td>\n",
       "      <td>E</td>\n",
       "      <td>VS2</td>\n",
       "      <td>62.7</td>\n",
       "      <td>58.0</td>\n",
       "      <td>5.74</td>\n",
       "      <td>5.68</td>\n",
       "      <td>3.58</td>\n",
       "    </tr>\n",
       "    <tr>\n",
       "      <th>2</th>\n",
       "      <td>3</td>\n",
       "      <td>0.44</td>\n",
       "      <td>Very Good</td>\n",
       "      <td>I</td>\n",
       "      <td>VS1</td>\n",
       "      <td>62.8</td>\n",
       "      <td>56.0</td>\n",
       "      <td>4.83</td>\n",
       "      <td>4.88</td>\n",
       "      <td>3.05</td>\n",
       "    </tr>\n",
       "    <tr>\n",
       "      <th>3</th>\n",
       "      <td>4</td>\n",
       "      <td>0.81</td>\n",
       "      <td>Premium</td>\n",
       "      <td>E</td>\n",
       "      <td>SI2</td>\n",
       "      <td>60.1</td>\n",
       "      <td>59.0</td>\n",
       "      <td>6.09</td>\n",
       "      <td>6.03</td>\n",
       "      <td>3.65</td>\n",
       "    </tr>\n",
       "    <tr>\n",
       "      <th>4</th>\n",
       "      <td>5</td>\n",
       "      <td>0.40</td>\n",
       "      <td>Ideal</td>\n",
       "      <td>G</td>\n",
       "      <td>VVS1</td>\n",
       "      <td>61.2</td>\n",
       "      <td>56.0</td>\n",
       "      <td>4.74</td>\n",
       "      <td>4.80</td>\n",
       "      <td>2.92</td>\n",
       "    </tr>\n",
       "  </tbody>\n",
       "</table>\n",
       "</div>"
      ],
      "text/plain": [
       "   Id  carat        cut color clarity  depth  table     x     y     z\n",
       "0   1   0.34      Ideal     G    VVS2   61.1   57.0  4.52  4.48  2.75\n",
       "1   2   0.71    Premium     E     VS2   62.7   58.0  5.74  5.68  3.58\n",
       "2   3   0.44  Very Good     I     VS1   62.8   56.0  4.83  4.88  3.05\n",
       "3   4   0.81    Premium     E     SI2   60.1   59.0  6.09  6.03  3.65\n",
       "4   5   0.40      Ideal     G    VVS1   61.2   56.0  4.74  4.80  2.92"
      ]
     },
     "execution_count": 28,
     "metadata": {},
     "output_type": "execute_result"
    }
   ],
   "source": [
    "submission = pd.read_csv('/kaggle/input/diamond-price-prediciton-2024/test.csv')\n",
    "submission.head()"
   ]
  },
  {
   "cell_type": "code",
   "execution_count": 29,
   "id": "6cd7bb96",
   "metadata": {
    "execution": {
     "iopub.execute_input": "2024-05-17T04:54:01.468107Z",
     "iopub.status.busy": "2024-05-17T04:54:01.467394Z",
     "iopub.status.idle": "2024-05-17T04:54:01.481216Z",
     "shell.execute_reply": "2024-05-17T04:54:01.479975Z"
    },
    "papermill": {
     "duration": 0.031955,
     "end_time": "2024-05-17T04:54:01.483946",
     "exception": false,
     "start_time": "2024-05-17T04:54:01.451991",
     "status": "completed"
    },
    "tags": []
   },
   "outputs": [],
   "source": [
    "submission['cut'] = submission['cut'].astype(pd.CategoricalDtype(categories=cut_categories, ordered=True))\n",
    "submission['color'] = submission['color'].astype(pd.CategoricalDtype(categories=color_categories, ordered=True))\n",
    "submission['clarity'] = submission['clarity'].astype(pd.CategoricalDtype(categories=clarity_categories, ordered=True))"
   ]
  },
  {
   "cell_type": "code",
   "execution_count": 30,
   "id": "c7d983cb",
   "metadata": {
    "execution": {
     "iopub.execute_input": "2024-05-17T04:54:01.514593Z",
     "iopub.status.busy": "2024-05-17T04:54:01.514191Z",
     "iopub.status.idle": "2024-05-17T04:54:01.527238Z",
     "shell.execute_reply": "2024-05-17T04:54:01.526416Z"
    },
    "papermill": {
     "duration": 0.031093,
     "end_time": "2024-05-17T04:54:01.529776",
     "exception": false,
     "start_time": "2024-05-17T04:54:01.498683",
     "status": "completed"
    },
    "tags": []
   },
   "outputs": [
    {
     "name": "stdout",
     "output_type": "stream",
     "text": [
      "<class 'pandas.core.frame.DataFrame'>\n",
      "RangeIndex: 10788 entries, 0 to 10787\n",
      "Data columns (total 10 columns):\n",
      " #   Column   Non-Null Count  Dtype   \n",
      "---  ------   --------------  -----   \n",
      " 0   Id       10788 non-null  int64   \n",
      " 1   carat    10788 non-null  float64 \n",
      " 2   cut      10788 non-null  category\n",
      " 3   color    10788 non-null  category\n",
      " 4   clarity  10788 non-null  category\n",
      " 5   depth    10788 non-null  float64 \n",
      " 6   table    10788 non-null  float64 \n",
      " 7   x        10788 non-null  float64 \n",
      " 8   y        10788 non-null  float64 \n",
      " 9   z        10788 non-null  float64 \n",
      "dtypes: category(3), float64(6), int64(1)\n",
      "memory usage: 622.6 KB\n"
     ]
    }
   ],
   "source": [
    "submission.info()"
   ]
  },
  {
   "cell_type": "code",
   "execution_count": 31,
   "id": "3644a5c9",
   "metadata": {
    "execution": {
     "iopub.execute_input": "2024-05-17T04:54:01.560748Z",
     "iopub.status.busy": "2024-05-17T04:54:01.559995Z",
     "iopub.status.idle": "2024-05-17T04:54:01.565587Z",
     "shell.execute_reply": "2024-05-17T04:54:01.564684Z"
    },
    "papermill": {
     "duration": 0.024036,
     "end_time": "2024-05-17T04:54:01.568026",
     "exception": false,
     "start_time": "2024-05-17T04:54:01.543990",
     "status": "completed"
    },
    "tags": []
   },
   "outputs": [],
   "source": [
    "submission_ready = submission.drop(columns=['Id','x','y','z'])"
   ]
  },
  {
   "cell_type": "code",
   "execution_count": 32,
   "id": "f02ac2d2",
   "metadata": {
    "execution": {
     "iopub.execute_input": "2024-05-17T04:54:01.598534Z",
     "iopub.status.busy": "2024-05-17T04:54:01.597742Z",
     "iopub.status.idle": "2024-05-17T04:54:01.622030Z",
     "shell.execute_reply": "2024-05-17T04:54:01.620852Z"
    },
    "papermill": {
     "duration": 0.042709,
     "end_time": "2024-05-17T04:54:01.624966",
     "exception": false,
     "start_time": "2024-05-17T04:54:01.582257",
     "status": "completed"
    },
    "tags": []
   },
   "outputs": [],
   "source": [
    "submission_preprocessed = best_xgb_model.named_steps['preprocessor'].transform(submission_ready)"
   ]
  },
  {
   "cell_type": "code",
   "execution_count": 33,
   "id": "db5fccc0",
   "metadata": {
    "execution": {
     "iopub.execute_input": "2024-05-17T04:54:01.655377Z",
     "iopub.status.busy": "2024-05-17T04:54:01.654945Z",
     "iopub.status.idle": "2024-05-17T04:54:01.697407Z",
     "shell.execute_reply": "2024-05-17T04:54:01.696474Z"
    },
    "papermill": {
     "duration": 0.060578,
     "end_time": "2024-05-17T04:54:01.700058",
     "exception": false,
     "start_time": "2024-05-17T04:54:01.639480",
     "status": "completed"
    },
    "tags": []
   },
   "outputs": [],
   "source": [
    "predictions = best_xgb_model.named_steps['regressor'].predict(submission_preprocessed)"
   ]
  },
  {
   "cell_type": "code",
   "execution_count": 34,
   "id": "10d1c82e",
   "metadata": {
    "execution": {
     "iopub.execute_input": "2024-05-17T04:54:01.731620Z",
     "iopub.status.busy": "2024-05-17T04:54:01.731194Z",
     "iopub.status.idle": "2024-05-17T04:54:01.737409Z",
     "shell.execute_reply": "2024-05-17T04:54:01.736034Z"
    },
    "papermill": {
     "duration": 0.023973,
     "end_time": "2024-05-17T04:54:01.739710",
     "exception": false,
     "start_time": "2024-05-17T04:54:01.715737",
     "status": "completed"
    },
    "tags": []
   },
   "outputs": [],
   "source": [
    "submission_results = pd.DataFrame({'id': submission['Id'], 'price': predictions})"
   ]
  },
  {
   "cell_type": "code",
   "execution_count": 35,
   "id": "84555a3c",
   "metadata": {
    "execution": {
     "iopub.execute_input": "2024-05-17T04:54:01.770824Z",
     "iopub.status.busy": "2024-05-17T04:54:01.769595Z",
     "iopub.status.idle": "2024-05-17T04:54:01.783218Z",
     "shell.execute_reply": "2024-05-17T04:54:01.781997Z"
    },
    "papermill": {
     "duration": 0.031973,
     "end_time": "2024-05-17T04:54:01.785796",
     "exception": false,
     "start_time": "2024-05-17T04:54:01.753823",
     "status": "completed"
    },
    "tags": []
   },
   "outputs": [
    {
     "data": {
      "text/html": [
       "<div>\n",
       "<style scoped>\n",
       "    .dataframe tbody tr th:only-of-type {\n",
       "        vertical-align: middle;\n",
       "    }\n",
       "\n",
       "    .dataframe tbody tr th {\n",
       "        vertical-align: top;\n",
       "    }\n",
       "\n",
       "    .dataframe thead th {\n",
       "        text-align: right;\n",
       "    }\n",
       "</style>\n",
       "<table border=\"1\" class=\"dataframe\">\n",
       "  <thead>\n",
       "    <tr style=\"text-align: right;\">\n",
       "      <th></th>\n",
       "      <th>id</th>\n",
       "      <th>price</th>\n",
       "    </tr>\n",
       "  </thead>\n",
       "  <tbody>\n",
       "    <tr>\n",
       "      <th>0</th>\n",
       "      <td>1</td>\n",
       "      <td>790.679199</td>\n",
       "    </tr>\n",
       "    <tr>\n",
       "      <th>1</th>\n",
       "      <td>2</td>\n",
       "      <td>2899.890137</td>\n",
       "    </tr>\n",
       "    <tr>\n",
       "      <th>2</th>\n",
       "      <td>3</td>\n",
       "      <td>810.542480</td>\n",
       "    </tr>\n",
       "    <tr>\n",
       "      <th>3</th>\n",
       "      <td>4</td>\n",
       "      <td>2818.886230</td>\n",
       "    </tr>\n",
       "    <tr>\n",
       "      <th>4</th>\n",
       "      <td>5</td>\n",
       "      <td>1129.536255</td>\n",
       "    </tr>\n",
       "    <tr>\n",
       "      <th>...</th>\n",
       "      <td>...</td>\n",
       "      <td>...</td>\n",
       "    </tr>\n",
       "    <tr>\n",
       "      <th>10783</th>\n",
       "      <td>10784</td>\n",
       "      <td>1719.500488</td>\n",
       "    </tr>\n",
       "    <tr>\n",
       "      <th>10784</th>\n",
       "      <td>10785</td>\n",
       "      <td>6614.743652</td>\n",
       "    </tr>\n",
       "    <tr>\n",
       "      <th>10785</th>\n",
       "      <td>10786</td>\n",
       "      <td>3961.333008</td>\n",
       "    </tr>\n",
       "    <tr>\n",
       "      <th>10786</th>\n",
       "      <td>10787</td>\n",
       "      <td>4670.072754</td>\n",
       "    </tr>\n",
       "    <tr>\n",
       "      <th>10787</th>\n",
       "      <td>10788</td>\n",
       "      <td>14679.408203</td>\n",
       "    </tr>\n",
       "  </tbody>\n",
       "</table>\n",
       "<p>10788 rows × 2 columns</p>\n",
       "</div>"
      ],
      "text/plain": [
       "          id         price\n",
       "0          1    790.679199\n",
       "1          2   2899.890137\n",
       "2          3    810.542480\n",
       "3          4   2818.886230\n",
       "4          5   1129.536255\n",
       "...      ...           ...\n",
       "10783  10784   1719.500488\n",
       "10784  10785   6614.743652\n",
       "10785  10786   3961.333008\n",
       "10786  10787   4670.072754\n",
       "10787  10788  14679.408203\n",
       "\n",
       "[10788 rows x 2 columns]"
      ]
     },
     "execution_count": 35,
     "metadata": {},
     "output_type": "execute_result"
    }
   ],
   "source": [
    "submission_results"
   ]
  },
  {
   "cell_type": "code",
   "execution_count": 36,
   "id": "0719d632",
   "metadata": {
    "execution": {
     "iopub.execute_input": "2024-05-17T04:54:01.816348Z",
     "iopub.status.busy": "2024-05-17T04:54:01.815936Z",
     "iopub.status.idle": "2024-05-17T04:54:01.850394Z",
     "shell.execute_reply": "2024-05-17T04:54:01.849265Z"
    },
    "papermill": {
     "duration": 0.053022,
     "end_time": "2024-05-17T04:54:01.853235",
     "exception": false,
     "start_time": "2024-05-17T04:54:01.800213",
     "status": "completed"
    },
    "tags": []
   },
   "outputs": [],
   "source": [
    "submission_results.to_csv('submission.csv', index=False)"
   ]
  }
 ],
 "metadata": {
  "kaggle": {
   "accelerator": "none",
   "dataSources": [
    {
     "databundleVersionId": 8457230,
     "sourceId": 77458,
     "sourceType": "competition"
    }
   ],
   "dockerImageVersionId": 30698,
   "isGpuEnabled": false,
   "isInternetEnabled": true,
   "language": "python",
   "sourceType": "notebook"
  },
  "kernelspec": {
   "display_name": "Python 3",
   "language": "python",
   "name": "python3"
  },
  "language_info": {
   "codemirror_mode": {
    "name": "ipython",
    "version": 3
   },
   "file_extension": ".py",
   "mimetype": "text/x-python",
   "name": "python",
   "nbconvert_exporter": "python",
   "pygments_lexer": "ipython3",
   "version": "3.10.13"
  },
  "papermill": {
   "default_parameters": {},
   "duration": 7914.919612,
   "end_time": "2024-05-17T04:54:02.609369",
   "environment_variables": {},
   "exception": null,
   "input_path": "__notebook__.ipynb",
   "output_path": "__notebook__.ipynb",
   "parameters": {},
   "start_time": "2024-05-17T02:42:07.689757",
   "version": "2.5.0"
  }
 },
 "nbformat": 4,
 "nbformat_minor": 5
}
